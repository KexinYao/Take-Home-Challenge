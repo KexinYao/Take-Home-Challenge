{
 "cells": [
  {
   "cell_type": "markdown",
   "metadata": {},
   "source": [
    "# Conversion Rate "
   ]
  },
  {
   "cell_type": "markdown",
   "metadata": {},
   "source": [
    "## Goal\n",
    " Build a model that predicts conversion rate and base on the model, come up with ideas to improve revenue "
   ]
  },
  {
   "cell_type": "code",
   "execution_count": 25,
   "metadata": {},
   "outputs": [],
   "source": [
    "import warnings \n",
    "warnings.simplefilter('ignore')\n",
    "\n",
    "import numpy as np\n",
    "import pandas as pd\n",
    "import seaborn as sns\n",
    "import matplotlib.pyplot as plt\n",
    "from sklearn.metrics import auc, roc_curve, classification_report\n",
    "from sklearn.tree import DecisionTreeClassifier\n",
    "from sklearn.linear_model import LogisticRegressionCV\n",
    "from sklearn.model_selection import train_test_split\n",
    "from sklearn.model_selection import GridSearchCV\n",
    "from sklearn.metrics import classification_report,confusion_matrix\n",
    "\n",
    "%matplotlib inline"
   ]
  },
  {
   "cell_type": "code",
   "execution_count": 26,
   "metadata": {},
   "outputs": [
    {
     "data": {
      "text/html": [
       "<div>\n",
       "<style scoped>\n",
       "    .dataframe tbody tr th:only-of-type {\n",
       "        vertical-align: middle;\n",
       "    }\n",
       "\n",
       "    .dataframe tbody tr th {\n",
       "        vertical-align: top;\n",
       "    }\n",
       "\n",
       "    .dataframe thead th {\n",
       "        text-align: right;\n",
       "    }\n",
       "</style>\n",
       "<table border=\"1\" class=\"dataframe\">\n",
       "  <thead>\n",
       "    <tr style=\"text-align: right;\">\n",
       "      <th></th>\n",
       "      <th>country</th>\n",
       "      <th>age</th>\n",
       "      <th>new_user</th>\n",
       "      <th>source</th>\n",
       "      <th>total_pages_visited</th>\n",
       "      <th>converted</th>\n",
       "    </tr>\n",
       "  </thead>\n",
       "  <tbody>\n",
       "    <tr>\n",
       "      <th>0</th>\n",
       "      <td>UK</td>\n",
       "      <td>25</td>\n",
       "      <td>1</td>\n",
       "      <td>Ads</td>\n",
       "      <td>1</td>\n",
       "      <td>0</td>\n",
       "    </tr>\n",
       "    <tr>\n",
       "      <th>1</th>\n",
       "      <td>US</td>\n",
       "      <td>23</td>\n",
       "      <td>1</td>\n",
       "      <td>Seo</td>\n",
       "      <td>5</td>\n",
       "      <td>0</td>\n",
       "    </tr>\n",
       "    <tr>\n",
       "      <th>2</th>\n",
       "      <td>US</td>\n",
       "      <td>28</td>\n",
       "      <td>1</td>\n",
       "      <td>Seo</td>\n",
       "      <td>4</td>\n",
       "      <td>0</td>\n",
       "    </tr>\n",
       "    <tr>\n",
       "      <th>3</th>\n",
       "      <td>China</td>\n",
       "      <td>39</td>\n",
       "      <td>1</td>\n",
       "      <td>Seo</td>\n",
       "      <td>5</td>\n",
       "      <td>0</td>\n",
       "    </tr>\n",
       "    <tr>\n",
       "      <th>4</th>\n",
       "      <td>US</td>\n",
       "      <td>30</td>\n",
       "      <td>1</td>\n",
       "      <td>Seo</td>\n",
       "      <td>6</td>\n",
       "      <td>0</td>\n",
       "    </tr>\n",
       "  </tbody>\n",
       "</table>\n",
       "</div>"
      ],
      "text/plain": [
       "  country  age  new_user source  total_pages_visited  converted\n",
       "0      UK   25         1    Ads                    1          0\n",
       "1      US   23         1    Seo                    5          0\n",
       "2      US   28         1    Seo                    4          0\n",
       "3   China   39         1    Seo                    5          0\n",
       "4      US   30         1    Seo                    6          0"
      ]
     },
     "execution_count": 26,
     "metadata": {},
     "output_type": "execute_result"
    }
   ],
   "source": [
    "#Check First 5 rows of the dataset \n",
    "df=pd.read_csv(\"conversion_data.csv\")\n",
    "df.head()"
   ]
  },
  {
   "cell_type": "code",
   "execution_count": 27,
   "metadata": {},
   "outputs": [
    {
     "name": "stdout",
     "output_type": "stream",
     "text": [
      "<class 'pandas.core.frame.DataFrame'>\n",
      "RangeIndex: 316200 entries, 0 to 316199\n",
      "Data columns (total 6 columns):\n",
      " #   Column               Non-Null Count   Dtype \n",
      "---  ------               --------------   ----- \n",
      " 0   country              316200 non-null  object\n",
      " 1   age                  316200 non-null  int64 \n",
      " 2   new_user             316200 non-null  int64 \n",
      " 3   source               316200 non-null  object\n",
      " 4   total_pages_visited  316200 non-null  int64 \n",
      " 5   converted            316200 non-null  int64 \n",
      "dtypes: int64(4), object(2)\n",
      "memory usage: 14.5+ MB\n"
     ]
    }
   ],
   "source": [
    "df.info()"
   ]
  },
  {
   "cell_type": "code",
   "execution_count": 28,
   "metadata": {},
   "outputs": [
    {
     "data": {
      "text/html": [
       "<div>\n",
       "<style scoped>\n",
       "    .dataframe tbody tr th:only-of-type {\n",
       "        vertical-align: middle;\n",
       "    }\n",
       "\n",
       "    .dataframe tbody tr th {\n",
       "        vertical-align: top;\n",
       "    }\n",
       "\n",
       "    .dataframe thead th {\n",
       "        text-align: right;\n",
       "    }\n",
       "</style>\n",
       "<table border=\"1\" class=\"dataframe\">\n",
       "  <thead>\n",
       "    <tr style=\"text-align: right;\">\n",
       "      <th></th>\n",
       "      <th>age</th>\n",
       "      <th>new_user</th>\n",
       "      <th>total_pages_visited</th>\n",
       "      <th>converted</th>\n",
       "    </tr>\n",
       "  </thead>\n",
       "  <tbody>\n",
       "    <tr>\n",
       "      <th>count</th>\n",
       "      <td>316200.000000</td>\n",
       "      <td>316200.000000</td>\n",
       "      <td>316200.000000</td>\n",
       "      <td>316200.000000</td>\n",
       "    </tr>\n",
       "    <tr>\n",
       "      <th>mean</th>\n",
       "      <td>30.569858</td>\n",
       "      <td>0.685465</td>\n",
       "      <td>4.872966</td>\n",
       "      <td>0.032258</td>\n",
       "    </tr>\n",
       "    <tr>\n",
       "      <th>std</th>\n",
       "      <td>8.271802</td>\n",
       "      <td>0.464331</td>\n",
       "      <td>3.341104</td>\n",
       "      <td>0.176685</td>\n",
       "    </tr>\n",
       "    <tr>\n",
       "      <th>min</th>\n",
       "      <td>17.000000</td>\n",
       "      <td>0.000000</td>\n",
       "      <td>1.000000</td>\n",
       "      <td>0.000000</td>\n",
       "    </tr>\n",
       "    <tr>\n",
       "      <th>25%</th>\n",
       "      <td>24.000000</td>\n",
       "      <td>0.000000</td>\n",
       "      <td>2.000000</td>\n",
       "      <td>0.000000</td>\n",
       "    </tr>\n",
       "    <tr>\n",
       "      <th>50%</th>\n",
       "      <td>30.000000</td>\n",
       "      <td>1.000000</td>\n",
       "      <td>4.000000</td>\n",
       "      <td>0.000000</td>\n",
       "    </tr>\n",
       "    <tr>\n",
       "      <th>75%</th>\n",
       "      <td>36.000000</td>\n",
       "      <td>1.000000</td>\n",
       "      <td>7.000000</td>\n",
       "      <td>0.000000</td>\n",
       "    </tr>\n",
       "    <tr>\n",
       "      <th>max</th>\n",
       "      <td>123.000000</td>\n",
       "      <td>1.000000</td>\n",
       "      <td>29.000000</td>\n",
       "      <td>1.000000</td>\n",
       "    </tr>\n",
       "  </tbody>\n",
       "</table>\n",
       "</div>"
      ],
      "text/plain": [
       "                 age       new_user  total_pages_visited      converted\n",
       "count  316200.000000  316200.000000        316200.000000  316200.000000\n",
       "mean       30.569858       0.685465             4.872966       0.032258\n",
       "std         8.271802       0.464331             3.341104       0.176685\n",
       "min        17.000000       0.000000             1.000000       0.000000\n",
       "25%        24.000000       0.000000             2.000000       0.000000\n",
       "50%        30.000000       1.000000             4.000000       0.000000\n",
       "75%        36.000000       1.000000             7.000000       0.000000\n",
       "max       123.000000       1.000000            29.000000       1.000000"
      ]
     },
     "execution_count": 28,
     "metadata": {},
     "output_type": "execute_result"
    }
   ],
   "source": [
    "df.describe()"
   ]
  },
  {
   "cell_type": "code",
   "execution_count": 29,
   "metadata": {},
   "outputs": [
    {
     "name": "stdout",
     "output_type": "stream",
     "text": [
      "country                4\t ['China', 'Germany', 'UK', 'US']\n",
      "age                   60\t [17, 18, 19, 20, 21, 22]\n",
      "new_user               2\t [0, 1]\n",
      "source                 3\t ['Ads', 'Direct', 'Seo']\n",
      "total_pages_visited    29\t [1, 2, 3, 4, 5, 6]\n",
      "converted              2\t [0, 1]\n"
     ]
    }
   ],
   "source": [
    "for column in df.columns: \n",
    "    uniques=sorted(df[column].unique())\n",
    "    print('{0:18s}{1:6d}\\t'.format(column, len(uniques)),uniques[0:6])"
   ]
  },
  {
   "cell_type": "markdown",
   "metadata": {},
   "source": [
    "## Remove Outliers "
   ]
  },
  {
   "cell_type": "markdown",
   "metadata": {},
   "source": [
    "The age of 123 seems unrealistic, check the age that over 90 "
   ]
  },
  {
   "cell_type": "code",
   "execution_count": 30,
   "metadata": {},
   "outputs": [
    {
     "data": {
      "text/html": [
       "<div>\n",
       "<style scoped>\n",
       "    .dataframe tbody tr th:only-of-type {\n",
       "        vertical-align: middle;\n",
       "    }\n",
       "\n",
       "    .dataframe tbody tr th {\n",
       "        vertical-align: top;\n",
       "    }\n",
       "\n",
       "    .dataframe thead th {\n",
       "        text-align: right;\n",
       "    }\n",
       "</style>\n",
       "<table border=\"1\" class=\"dataframe\">\n",
       "  <thead>\n",
       "    <tr style=\"text-align: right;\">\n",
       "      <th></th>\n",
       "      <th>country</th>\n",
       "      <th>age</th>\n",
       "      <th>new_user</th>\n",
       "      <th>source</th>\n",
       "      <th>total_pages_visited</th>\n",
       "      <th>converted</th>\n",
       "    </tr>\n",
       "  </thead>\n",
       "  <tbody>\n",
       "    <tr>\n",
       "      <th>90928</th>\n",
       "      <td>Germany</td>\n",
       "      <td>123</td>\n",
       "      <td>0</td>\n",
       "      <td>Seo</td>\n",
       "      <td>15</td>\n",
       "      <td>1</td>\n",
       "    </tr>\n",
       "    <tr>\n",
       "      <th>295581</th>\n",
       "      <td>UK</td>\n",
       "      <td>111</td>\n",
       "      <td>0</td>\n",
       "      <td>Ads</td>\n",
       "      <td>10</td>\n",
       "      <td>1</td>\n",
       "    </tr>\n",
       "  </tbody>\n",
       "</table>\n",
       "</div>"
      ],
      "text/plain": [
       "        country  age  new_user source  total_pages_visited  converted\n",
       "90928   Germany  123         0    Seo                   15          1\n",
       "295581       UK  111         0    Ads                   10          1"
      ]
     },
     "execution_count": 30,
     "metadata": {},
     "output_type": "execute_result"
    }
   ],
   "source": [
    "df[df['age']>90]"
   ]
  },
  {
   "cell_type": "markdown",
   "metadata": {},
   "source": [
    "\n",
    "There are only two records that age over 90, we can just removed them."
   ]
  },
  {
   "cell_type": "code",
   "execution_count": 31,
   "metadata": {},
   "outputs": [],
   "source": [
    "df=df[df['age']<90]"
   ]
  },
  {
   "cell_type": "markdown",
   "metadata": {},
   "source": [
    "\n",
    "## Exploratory Data Analysis "
   ]
  },
  {
   "cell_type": "code",
   "execution_count": 32,
   "metadata": {},
   "outputs": [
    {
     "data": {
      "image/png": "[encoded data removed]",
      "text/plain": [
       "<Figure size 1296x432 with 2 Axes>"
      ]
     },
     "metadata": {
      "needs_background": "light"
     },
     "output_type": "display_data"
    }
   ],
   "source": [
    "# Visualization of different countries\n",
    "grouped=df[['country','converted']].groupby('country').mean().reset_index()\n",
    "fix,ax=plt.subplots(nrows=1,ncols=2,figsize=(18,6))\n",
    "sns.countplot(x='country',hue='converted',data=df,ax=ax[0])\n",
    "ax[0].set_title('Count Plot of Country',fontsize=16)\n",
    "ax[0].set_yscale('log')\n",
    "sns.barplot(x='country', y='converted', data=df, ax=ax[1]);\n",
    "ax[1].set_title('Mean Conversion Rate per Country', fontsize=16)\n",
    "plt.tight_layout()\n",
    "plt.show()"
   ]
  },
  {
   "cell_type": "code",
   "execution_count": 33,
   "metadata": {},
   "outputs": [
    {
     "data": {
      "image/png": "[encoded data removed]",
      "text/plain": [
       "<Figure size 1296x432 with 2 Axes>"
      ]
     },
     "metadata": {
      "needs_background": "light"
     },
     "output_type": "display_data"
    }
   ],
   "source": [
    "# Visualization of different user types\n",
    "grouped = df[['new_user', 'converted']].groupby('new_user').mean().reset_index()\n",
    "\n",
    "fig, ax = plt.subplots(nrows=1, ncols=2, figsize=(18, 6))\n",
    "sns.countplot(x='new_user', hue='converted', data=df, ax=ax[0])\n",
    "ax[0].set_title('Count Plot of User Types', fontsize=16)\n",
    "ax[0].set_yscale('log')\n",
    "sns.barplot(x='new_user', y='converted', data=df, ax=ax[1]);\n",
    "ax[1].set_title('Mean Conversion Rate per User Type', fontsize=16)\n",
    "plt.tight_layout()\n",
    "plt.show()\n"
   ]
  },
  {
   "cell_type": "code",
   "execution_count": 34,
   "metadata": {},
   "outputs": [
    {
     "data": {
      "image/png": "[encoded data removed]",
      "text/plain": [
       "<Figure size 1296x432 with 2 Axes>"
      ]
     },
     "metadata": {
      "needs_background": "light"
     },
     "output_type": "display_data"
    }
   ],
   "source": [
    "# Visualization of different sources\n",
    "grouped = df[['source', 'converted']].groupby('source').mean().reset_index()\n",
    "\n",
    "fig, ax = plt.subplots(nrows=1, ncols=2, figsize=(18, 6))\n",
    "sns.countplot(x='source', hue='converted', data=df, ax=ax[0])\n",
    "ax[0].set_title('Count Plot of Different Sources', fontsize=16)\n",
    "ax[0].set_yscale('log')\n",
    "sns.barplot(x='source', y='converted', data=df\n",
    "            , ax=ax[1]);\n",
    "ax[1].set_title('Mean Conversion Rate per Source', fontsize=16)\n",
    "plt.tight_layout()\n",
    "plt.show()"
   ]
  },
  {
   "cell_type": "code",
   "execution_count": 35,
   "metadata": {},
   "outputs": [
    {
     "data": {
      "image/png": "[encoded data removed]",
      "text/plain": [
       "<Figure size 1296x432 with 2 Axes>"
      ]
     },
     "metadata": {
      "needs_background": "light"
     },
     "output_type": "display_data"
    }
   ],
   "source": [
    "# Visualization of different sources\n",
    "grouped = df[['age', 'converted']].groupby('age').mean().reset_index()\n",
    "hist_kws={'histtype': 'bar', 'edgecolor':'black', 'alpha': 0.2}\n",
    "\n",
    "fig, ax = plt.subplots(nrows=1, ncols=2, figsize=(18, 6))\n",
    "sns.distplot(df[df['converted'] == 0]['age'], label='Converted 0', \n",
    "             ax=ax[0], hist_kws=hist_kws)\n",
    "sns.distplot(df[df['converted'] == 1]['age'], label='Converted 1', \n",
    "             ax=ax[0], hist_kws=hist_kws)\n",
    "ax[0].set_title('Count Plot of Age', fontsize=16)\n",
    "ax[0].legend()\n",
    "ax[1].plot(grouped['age'], grouped['converted'], '.-')\n",
    "ax[1].set_title('Mean Conversion Rate vs. Age', fontsize=16)\n",
    "ax[1].set_xlabel('age')\n",
    "ax[1].set_ylabel('Mean convertion rate')\n",
    "ax[1].grid(True)\n",
    "plt.show()\n"
   ]
  },
  {
   "cell_type": "code",
   "execution_count": 36,
   "metadata": {},
   "outputs": [
    {
     "data": {
      "image/png": "[encoded data removed]",
      "text/plain": [
       "<Figure size 1296x432 with 2 Axes>"
      ]
     },
     "metadata": {
      "needs_background": "light"
     },
     "output_type": "display_data"
    }
   ],
   "source": [
    "# Visualization of different sources\n",
    "grouped = df[['total_pages_visited', 'converted']].groupby('total_pages_visited').mean().reset_index()\n",
    "\n",
    "fig, ax = plt.subplots(nrows=1, ncols=2, figsize=(18, 6))\n",
    "sns.distplot(df[df['converted'] == 0]['total_pages_visited'], \n",
    "             label='Converted 0', ax=ax[0], hist_kws=hist_kws)\n",
    "sns.distplot(df[df['converted'] == 1]['total_pages_visited'], \n",
    "             label='Converted 1', ax=ax[0], hist_kws=hist_kws)\n",
    "ax[0].set_title('Count Plot of Age', fontsize=16)\n",
    "ax[0].legend()\n",
    "ax[1].plot(grouped['total_pages_visited'], grouped['converted'], '.-')\n",
    "ax[1].set_title('Mean Conversion Rate vs. Total_pages_visited', fontsize=16)\n",
    "ax[1].set_xlabel('total_pages_visited')\n",
    "ax[1].set_ylabel('Mean convertion rate')\n",
    "ax[1].grid(True)\n",
    "plt.show()"
   ]
  },
  {
   "cell_type": "markdown",
   "metadata": {},
   "source": [
    "## Machine Learning "
   ]
  },
  {
   "cell_type": "code",
   "execution_count": 44,
   "metadata": {},
   "outputs": [],
   "source": [
    "#Use one-hot-encoding to transform the categorical features into numerical values\n",
    "X = df.loc[:,('country', 'age', 'new_user', 'source', 'total_pages_visited')]\n",
    "X = pd.get_dummies(X)# OHE those categorical features\n"
   ]
  },
  {
   "cell_type": "code",
   "execution_count": 45,
   "metadata": {},
   "outputs": [
    {
     "data": {
      "text/html": [
       "<div>\n",
       "<style scoped>\n",
       "    .dataframe tbody tr th:only-of-type {\n",
       "        vertical-align: middle;\n",
       "    }\n",
       "\n",
       "    .dataframe tbody tr th {\n",
       "        vertical-align: top;\n",
       "    }\n",
       "\n",
       "    .dataframe thead th {\n",
       "        text-align: right;\n",
       "    }\n",
       "</style>\n",
       "<table border=\"1\" class=\"dataframe\">\n",
       "  <thead>\n",
       "    <tr style=\"text-align: right;\">\n",
       "      <th></th>\n",
       "      <th>age</th>\n",
       "      <th>new_user</th>\n",
       "      <th>total_pages_visited</th>\n",
       "      <th>country_China</th>\n",
       "      <th>country_Germany</th>\n",
       "      <th>country_UK</th>\n",
       "      <th>country_US</th>\n",
       "      <th>source_Ads</th>\n",
       "      <th>source_Direct</th>\n",
       "      <th>source_Seo</th>\n",
       "    </tr>\n",
       "  </thead>\n",
       "  <tbody>\n",
       "    <tr>\n",
       "      <th>0</th>\n",
       "      <td>25</td>\n",
       "      <td>1</td>\n",
       "      <td>1</td>\n",
       "      <td>0</td>\n",
       "      <td>0</td>\n",
       "      <td>1</td>\n",
       "      <td>0</td>\n",
       "      <td>1</td>\n",
       "      <td>0</td>\n",
       "      <td>0</td>\n",
       "    </tr>\n",
       "    <tr>\n",
       "      <th>1</th>\n",
       "      <td>23</td>\n",
       "      <td>1</td>\n",
       "      <td>5</td>\n",
       "      <td>0</td>\n",
       "      <td>0</td>\n",
       "      <td>0</td>\n",
       "      <td>1</td>\n",
       "      <td>0</td>\n",
       "      <td>0</td>\n",
       "      <td>1</td>\n",
       "    </tr>\n",
       "    <tr>\n",
       "      <th>2</th>\n",
       "      <td>28</td>\n",
       "      <td>1</td>\n",
       "      <td>4</td>\n",
       "      <td>0</td>\n",
       "      <td>0</td>\n",
       "      <td>0</td>\n",
       "      <td>1</td>\n",
       "      <td>0</td>\n",
       "      <td>0</td>\n",
       "      <td>1</td>\n",
       "    </tr>\n",
       "    <tr>\n",
       "      <th>3</th>\n",
       "      <td>39</td>\n",
       "      <td>1</td>\n",
       "      <td>5</td>\n",
       "      <td>1</td>\n",
       "      <td>0</td>\n",
       "      <td>0</td>\n",
       "      <td>0</td>\n",
       "      <td>0</td>\n",
       "      <td>0</td>\n",
       "      <td>1</td>\n",
       "    </tr>\n",
       "    <tr>\n",
       "      <th>4</th>\n",
       "      <td>30</td>\n",
       "      <td>1</td>\n",
       "      <td>6</td>\n",
       "      <td>0</td>\n",
       "      <td>0</td>\n",
       "      <td>0</td>\n",
       "      <td>1</td>\n",
       "      <td>0</td>\n",
       "      <td>0</td>\n",
       "      <td>1</td>\n",
       "    </tr>\n",
       "  </tbody>\n",
       "</table>\n",
       "</div>"
      ],
      "text/plain": [
       "   age  new_user  total_pages_visited  country_China  country_Germany  \\\n",
       "0   25         1                    1              0                0   \n",
       "1   23         1                    5              0                0   \n",
       "2   28         1                    4              0                0   \n",
       "3   39         1                    5              1                0   \n",
       "4   30         1                    6              0                0   \n",
       "\n",
       "   country_UK  country_US  source_Ads  source_Direct  source_Seo  \n",
       "0           1           0           1              0           0  \n",
       "1           0           1           0              0           1  \n",
       "2           0           1           0              0           1  \n",
       "3           0           0           0              0           1  \n",
       "4           0           1           0              0           1  "
      ]
     },
     "execution_count": 45,
     "metadata": {},
     "output_type": "execute_result"
    }
   ],
   "source": [
    "X.head()"
   ]
  },
  {
   "cell_type": "code",
   "execution_count": 47,
   "metadata": {},
   "outputs": [
    {
     "data": {
      "text/plain": [
       "0.03225194340255157"
      ]
     },
     "execution_count": 47,
     "metadata": {},
     "output_type": "execute_result"
    }
   ],
   "source": [
    "y = df.converted\n",
    "y.mean()"
   ]
  },
  {
   "cell_type": "code",
   "execution_count": 48,
   "metadata": {},
   "outputs": [],
   "source": [
    "Xtrain,Xtest,ytrain,ytest = train_test_split(X,y,test_size=0.333)"
   ]
  },
  {
   "cell_type": "code",
   "execution_count": 49,
   "metadata": {},
   "outputs": [
    {
     "data": {
      "text/plain": [
       "(0.032275348025642, 0.03220506391627253)"
      ]
     },
     "execution_count": 49,
     "metadata": {},
     "output_type": "execute_result"
    }
   ],
   "source": [
    "ytrain.mean(),ytest.mean()"
   ]
  },
  {
   "cell_type": "code",
   "execution_count": 50,
   "metadata": {
    "scrolled": true
   },
   "outputs": [
    {
     "name": "stderr",
     "output_type": "stream",
     "text": [
      "[Parallel(n_jobs=-1)]: Using backend LokyBackend with 4 concurrent workers.\n",
      "[Parallel(n_jobs=-1)]: Done   5 out of   5 | elapsed:   13.6s finished\n"
     ]
    },
    {
     "data": {
      "text/plain": [
       "LogisticRegressionCV(Cs=array([1.e-03, 1.e-02, 1.e-01, 1.e+00, 1.e+01, 1.e+02, 1.e+03]),\n",
       "                     max_iter=1000, n_jobs=-1, scoring='roc_auc', verbose=1)"
      ]
     },
     "execution_count": 50,
     "metadata": {},
     "output_type": "execute_result"
    }
   ],
   "source": [
    "lrcv = LogisticRegressionCV(Cs = np.logspace(-3,3,7),\n",
    "                            dual=False,\n",
    "                            scoring='roc_auc',\n",
    "                            max_iter=1000,\n",
    "                            n_jobs=-1,\n",
    "                            verbose=1)\n",
    "lrcv.fit(Xtrain,ytrain)"
   ]
  },
  {
   "cell_type": "code",
   "execution_count": 51,
   "metadata": {},
   "outputs": [
    {
     "data": {
      "text/plain": [
       "array([1000.])"
      ]
     },
     "execution_count": 51,
     "metadata": {},
     "output_type": "execute_result"
    }
   ],
   "source": [
    "lrcv.C_"
   ]
  },
  {
   "cell_type": "code",
   "execution_count": 52,
   "metadata": {},
   "outputs": [
    {
     "data": {
      "text/plain": [
       "{1: array([[0.98256247, 0.9854015 , 0.98596684, 0.98596913, 0.98596367,\n",
       "         0.98596373, 0.98596373],\n",
       "        [0.98295299, 0.98605251, 0.98681961, 0.98689777, 0.98689985,\n",
       "         0.98689985, 0.98689985],\n",
       "        [0.98382512, 0.98620845, 0.98675471, 0.98681508, 0.98682226,\n",
       "         0.98682226, 0.98682226],\n",
       "        [0.97996826, 0.98313167, 0.98389274, 0.98397886, 0.98398663,\n",
       "         0.98398663, 0.98398663],\n",
       "        [0.9816029 , 0.98471017, 0.98550843, 0.98559477, 0.98560458,\n",
       "         0.98560458, 0.98560458]])}"
      ]
     },
     "execution_count": 52,
     "metadata": {},
     "output_type": "execute_result"
    }
   ],
   "source": [
    "lrcv.scores_"
   ]
  },
  {
   "cell_type": "code",
   "execution_count": 53,
   "metadata": {},
   "outputs": [
    {
     "data": {
      "text/plain": [
       "0.9858958671168635"
      ]
     },
     "execution_count": 53,
     "metadata": {},
     "output_type": "execute_result"
    }
   ],
   "source": [
    "lrcv.score(Xtrain,ytrain)"
   ]
  },
  {
   "cell_type": "code",
   "execution_count": 54,
   "metadata": {},
   "outputs": [
    {
     "data": {
      "text/plain": [
       "0.9863463564104956"
      ]
     },
     "execution_count": 54,
     "metadata": {},
     "output_type": "execute_result"
    }
   ],
   "source": [
    "lrcv.score(Xtest,ytest)"
   ]
  },
  {
   "cell_type": "code",
   "execution_count": 55,
   "metadata": {},
   "outputs": [
    {
     "data": {
      "text/plain": [
       "0.9677949360837275"
      ]
     },
     "execution_count": 55,
     "metadata": {},
     "output_type": "execute_result"
    }
   ],
   "source": [
    "1 - ytest.mean()"
   ]
  },
  {
   "cell_type": "code",
   "execution_count": 58,
   "metadata": {},
   "outputs": [
    {
     "name": "stdout",
     "output_type": "stream",
     "text": [
      "              precision    recall  f1-score   support\n",
      "\n",
      "           0       0.99      1.00      0.99    101903\n",
      "           1       0.86      0.69      0.77      3391\n",
      "\n",
      "    accuracy                           0.99    105294\n",
      "   macro avg       0.92      0.84      0.88    105294\n",
      "weighted avg       0.99      0.99      0.99    105294\n",
      "\n"
     ]
    }
   ],
   "source": [
    "ytest_predict = lrcv.predict(Xtest)\n",
    "print(classification_report(y_true=ytest,y_pred=ytest_predict))"
   ]
  },
  {
   "cell_type": "code",
   "execution_count": 59,
   "metadata": {},
   "outputs": [
    {
     "data": {
      "text/html": [
       "<div>\n",
       "<style scoped>\n",
       "    .dataframe tbody tr th:only-of-type {\n",
       "        vertical-align: middle;\n",
       "    }\n",
       "\n",
       "    .dataframe tbody tr th {\n",
       "        vertical-align: top;\n",
       "    }\n",
       "\n",
       "    .dataframe thead th {\n",
       "        text-align: right;\n",
       "    }\n",
       "</style>\n",
       "<table border=\"1\" class=\"dataframe\">\n",
       "  <thead>\n",
       "    <tr style=\"text-align: right;\">\n",
       "      <th></th>\n",
       "      <th>name</th>\n",
       "      <th>coef</th>\n",
       "      <th>importances</th>\n",
       "    </tr>\n",
       "  </thead>\n",
       "  <tbody>\n",
       "    <tr>\n",
       "      <th>3</th>\n",
       "      <td>country_China</td>\n",
       "      <td>-2.670833</td>\n",
       "      <td>2.670833</td>\n",
       "    </tr>\n",
       "    <tr>\n",
       "      <th>1</th>\n",
       "      <td>new_user</td>\n",
       "      <td>-1.715275</td>\n",
       "      <td>1.715275</td>\n",
       "    </tr>\n",
       "    <tr>\n",
       "      <th>4</th>\n",
       "      <td>country_Germany</td>\n",
       "      <td>1.139386</td>\n",
       "      <td>1.139386</td>\n",
       "    </tr>\n",
       "    <tr>\n",
       "      <th>5</th>\n",
       "      <td>country_UK</td>\n",
       "      <td>0.849227</td>\n",
       "      <td>0.849227</td>\n",
       "    </tr>\n",
       "    <tr>\n",
       "      <th>2</th>\n",
       "      <td>total_pages_visited</td>\n",
       "      <td>0.758213</td>\n",
       "      <td>0.758213</td>\n",
       "    </tr>\n",
       "    <tr>\n",
       "      <th>6</th>\n",
       "      <td>country_US</td>\n",
       "      <td>0.491209</td>\n",
       "      <td>0.491209</td>\n",
       "    </tr>\n",
       "    <tr>\n",
       "      <th>8</th>\n",
       "      <td>source_Direct</td>\n",
       "      <td>-0.153489</td>\n",
       "      <td>0.153489</td>\n",
       "    </tr>\n",
       "    <tr>\n",
       "      <th>0</th>\n",
       "      <td>age</td>\n",
       "      <td>-0.071582</td>\n",
       "      <td>0.071582</td>\n",
       "    </tr>\n",
       "    <tr>\n",
       "      <th>9</th>\n",
       "      <td>source_Seo</td>\n",
       "      <td>-0.028572</td>\n",
       "      <td>0.028572</td>\n",
       "    </tr>\n",
       "    <tr>\n",
       "      <th>7</th>\n",
       "      <td>source_Ads</td>\n",
       "      <td>-0.008950</td>\n",
       "      <td>0.008950</td>\n",
       "    </tr>\n",
       "  </tbody>\n",
       "</table>\n",
       "</div>"
      ],
      "text/plain": [
       "                  name      coef  importances\n",
       "3        country_China -2.670833     2.670833\n",
       "1             new_user -1.715275     1.715275\n",
       "4      country_Germany  1.139386     1.139386\n",
       "5           country_UK  0.849227     0.849227\n",
       "2  total_pages_visited  0.758213     0.758213\n",
       "6           country_US  0.491209     0.491209\n",
       "8        source_Direct -0.153489     0.153489\n",
       "0                  age -0.071582     0.071582\n",
       "9           source_Seo -0.028572     0.028572\n",
       "7           source_Ads -0.008950     0.008950"
      ]
     },
     "execution_count": 59,
     "metadata": {},
     "output_type": "execute_result"
    }
   ],
   "source": [
    "feat_importances = pd.DataFrame({\"name\":Xtrain.columns,\"coef\":lrcv.coef_[0]})\n",
    "feat_importances = feat_importances[['name','coef']]# reorder the columns\n",
    "feat_importances['importances'] = np.abs( feat_importances['coef'] )\n",
    "feat_importances.sort_values(by=\"importances\",inplace=True,ascending=False)\n",
    "feat_importances"
   ]
  },
  {
   "cell_type": "markdown",
   "metadata": {},
   "source": [
    "Some conclusions and suggestions:\n",
    "1. The site is working very well for young users. Definitely let’s tell marketing to advertise and use marketing channel which are more likely to reach young people.\n",
    "2. The site is working very well for Germany in terms of conversion. But the summary showed that there are few Germans coming to the site: way less than UK, despite a larger population. Again, marketing should get more Germans. Big opportunity.\n",
    "3. Users with old accounts do much better. Targeted emails with offers to bring them back to the site could be a good idea to try.\n",
    "4. Something is wrong with the Chinese version of the site. It is either poorly translated, doesn’t fit the local culture, some payment issue or maybe it is just in English! Given how many users are based in China, fixing this should be a top priority. Huge opportunity.\n",
    "5. Maybe go through the UI and figure out why older users perform so poorly? From 30 y/o conversion clearly starts dropping.\n",
    "6. If I know someone has visited many pages, but hasn’t converted, she almost surely has high purchase intent. I could email her targeted offers or sending her reminders. Overall, these are probably the easiest users to make convert.\n"
   ]
  },
  {
   "cell_type": "code",
   "execution_count": null,
   "metadata": {},
   "outputs": [],
   "source": []
  }
 ],
 "metadata": {
  "kernelspec": {
   "display_name": "Python 3",
   "language": "python",
   "name": "python3"
  },
  "language_info": {
   "codemirror_mode": {
    "name": "ipython",
    "version": 3
   },
   "file_extension": ".py",
   "mimetype": "text/x-python",
   "name": "python",
   "nbconvert_exporter": "python",
   "pygments_lexer": "ipython3",
   "version": "3.8.5"
  }
 },
 "nbformat": 4,
 "nbformat_minor": 4
}
